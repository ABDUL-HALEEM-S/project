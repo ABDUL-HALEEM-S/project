{
  "nbformat": 4,
  "nbformat_minor": 0,
  "metadata": {
    "colab": {
      "name": "Untitled0.ipynb",
      "provenance": [],
      "collapsed_sections": []
    },
    "kernelspec": {
      "name": "python3",
      "display_name": "Python 3"
    },
    "language_info": {
      "name": "python"
    }
  },
  "cells": [
    {
      "cell_type": "code",
      "metadata": {
        "id": "sJKiaJngor7k"
      },
      "source": [
        "# SHAPEAI PYTHON AND COMPUTER VISION BOOTCAMP\n",
        "Hi I made this project during the 7 Days Free Bootcamp, conducted by <b> SHAPEAI\n",
        "</b>.\n",
        "The instructor during the session was Mr. Shaurya Sinha (Data Analyst Intern at Jio). I got to\n",
        "learn a lot during these 7 days and it was an amazing experience learning with SHAPEAI.\n",
        "<br><br>Here's the link for you to watch the sessions as well<br>\n",
        "<a href=\"https://www.youtube.com/playlist?list=PL7zl8TDRnbulHqBNcsk_zeuy1RTKePPcg\"> <img src=\"https://github.com/ShapeAI/PYTHON-AND-DATA-ANALYTICS/blob/main/YOUTUBE%20THUMBNAIL-2.png\"> </a>\n",
        "<br>I got to have hands on experience on:\n",
        "<li>Python\n",
        "<li>Neural Networks\n",
        "<li>CNNs\n",
        "<br>during these 7 days, and everything was explained from the very basics so that\n",
        "anyone with zero experience on programming can learn.\n",
        "I enjoyed these 7 days, you can as well. To register for next free 7 days bootcamp, visit:\n",
        "www.shapeai.tech\n",
        "or follow SHAPEAI on:\n",
        "<li><a href=\n",
        "\"https://in.linkedin.com/company/shapeai\">LinkedIn</a>\n",
        "<li><a href=\n",
        "\"https://www.instagram.com/shape.ai/?hl=en\">Instagram</a>\n",
        "<li><a\n",
        "href=\n",
        "\"https://www.youtube.com/channel/UCTUvDLTW9meuDXWcbmISPdA\">YouTu\n",
        "be</a>\n",
        "<li><a href=\n",
        "\"https://github.com/shapeai\">GitHub</a>\n",
        "\n"
      ],
      "execution_count": null,
      "outputs": []
    },
    {
      "cell_type": "markdown",
      "metadata": {
        "id": "VdvZRWd4o723"
      },
      "source": [
        ""
      ]
    }
  ]
}